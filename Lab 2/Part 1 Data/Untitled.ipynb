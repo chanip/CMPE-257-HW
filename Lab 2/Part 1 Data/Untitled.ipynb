{
 "cells": [
  {
   "cell_type": "markdown",
   "metadata": {},
   "source": [
    "# <font color=darkblue>Part 1 (10x6 = 60 pts) KNN & K-mean </font>\n"
   ]
  },
  {
   "cell_type": "markdown",
   "metadata": {},
   "source": [
    "<font color=blue> Step 1: Load the data points and ground truth values (Some ground truth values may be in a different file) <font>\n"
   ]
  },
  {
   "cell_type": "markdown",
   "metadata": {},
   "source": [
    "<font color=blue> Step 2 (1 pts): Plot the points according to the ground truth value classes.<font>\n"
   ]
  },
  {
   "cell_type": "markdown",
   "metadata": {},
   "source": [
    "<font color=blue> Step 3: Split data into train and test. <font>\n"
   ]
  },
  {
   "cell_type": "markdown",
   "metadata": {},
   "source": [
    "<font color=blue> Step 4 (2 pts): Use KNN (own NumPy code & sklearn library) to clusters the data. <font>\n"
   ]
  },
  {
   "cell_type": "markdown",
   "metadata": {},
   "source": [
    "<font color=blue> Step 4 (2 pts): Use KNN (own NumPy code & sklearn library) to clusters the data. Step 5 (1 pts): Plot your result in different colors similar to Step 2. <font>\n"
   ]
  },
  {
   "cell_type": "markdown",
   "metadata": {},
   "source": [
    "<font color=blue> Step 6 (1 pts): Print the confusion matrix to check model performance. <font>\n"
   ]
  },
  {
   "cell_type": "markdown",
   "metadata": {},
   "source": [
    "<font color=blue> Step 7 (4 pts): Repeat Steps 3 - 6 and use K-means (own NumPy code & sklearn library) to perform the same. Additionally, print the centroids. <font>\n"
   ]
  },
  {
   "cell_type": "markdown",
   "metadata": {},
   "source": [
    "<font color=blue> Step 8 (1pts): Compare the results between KNN and K-means <font>\n"
   ]
  },
  {
   "cell_type": "markdown",
   "metadata": {},
   "source": [
    "# <font color=darkblue>Part 2 (10x2 = 20 pts) Use Neural Networks + minimum 3 hidden layers </font>\n"
   ]
  },
  {
   "cell_type": "markdown",
   "metadata": {},
   "source": [
    "<font color=blue> 1)Data clean up – feature engineering <font>\n"
   ]
  },
  {
   "cell_type": "markdown",
   "metadata": {},
   "source": [
    "<font color=blue> 2)Impute the missing values with mean, median and mode. You need to evaluate which method is better based on the F1 score.<font>\n"
   ]
  },
  {
   "cell_type": "markdown",
   "metadata": {},
   "source": [
    "<font color=blue> 3)Build a neural network with at least 3 hidden layers and 4 neurons each. Train and test.<font>\n"
   ]
  },
  {
   "cell_type": "markdown",
   "metadata": {},
   "source": [
    "<font color=blue> 4)Which activation functions are you using? Why? <font>\n"
   ]
  },
  {
   "cell_type": "markdown",
   "metadata": {},
   "source": [
    "<font color=blue> 5)Tune the hyperparameters using cross-validation and see what precision you can achieve <font>\n"
   ]
  },
  {
   "cell_type": "markdown",
   "metadata": {},
   "source": [
    "<font color=blue> 6)Is using Adam optimization and early stopping helpful in this problem? Why? <font>\n"
   ]
  },
  {
   "cell_type": "markdown",
   "metadata": {},
   "source": [
    "<font color=blue> 7)Now try adding Batch Normalization and compare the learning curves: is it converging faster than before? Does it produce a better model? <font>\n"
   ]
  },
  {
   "cell_type": "markdown",
   "metadata": {},
   "source": [
    "<font color=blue> 8)Is the model overfitting the training set? Try adding dropout to every layer and try again. Does it help?<font>\n"
   ]
  },
  {
   "cell_type": "markdown",
   "metadata": {},
   "source": [
    "<font color=blue>9)What is the final model you’ve arrived? Draw the neural network to explain your solution. <font>\n"
   ]
  },
  {
   "cell_type": "markdown",
   "metadata": {},
   "source": [
    "<font color=blue>10)Mention your F-1 score for each development in your model<font>\n"
   ]
  },
  {
   "cell_type": "markdown",
   "metadata": {},
   "source": [
    "# <font color=darkblue>Part 3 (20 pts) Use XGBoost (Highlighted questions carry 5 points each).</font>\n"
   ]
  },
  {
   "cell_type": "markdown",
   "metadata": {},
   "source": [
    "<font color=blue>Load the dataset\n",
    "1)Train and test the data<font>\n"
   ]
  },
  {
   "cell_type": "markdown",
   "metadata": {},
   "source": [
    "<font color=blue>2)Perform feature engineering<font>\n"
   ]
  },
  {
   "cell_type": "markdown",
   "metadata": {},
   "source": [
    "<font color=blue>3)What features are the most correlated?<font>\n"
   ]
  },
  {
   "cell_type": "markdown",
   "metadata": {},
   "source": [
    "<font color=blue>4)Build a model<font>\n"
   ]
  },
  {
   "cell_type": "markdown",
   "metadata": {},
   "source": [
    "<font color=blue>5)Use XGBoost <font>\n"
   ]
  },
  {
   "cell_type": "markdown",
   "metadata": {},
   "source": [
    "<font color=blue>6)Fine tune the parameters – explain each and every step in detail. Which parameter? Why this value? <font>\n"
   ]
  },
  {
   "cell_type": "markdown",
   "metadata": {},
   "source": [
    "<font color=blue>7)Evaluate the performance of your model<font>\n"
   ]
  },
  {
   "cell_type": "markdown",
   "metadata": {},
   "source": [
    "<font color=blue>8)Explain in detail what is happening inside your model? How have you built this model?<font>\n"
   ]
  }
 ],
 "metadata": {
  "kernelspec": {
   "display_name": "Python 3",
   "language": "python",
   "name": "python3"
  },
  "language_info": {
   "codemirror_mode": {
    "name": "ipython",
    "version": 3
   },
   "file_extension": ".py",
   "mimetype": "text/x-python",
   "name": "python",
   "nbconvert_exporter": "python",
   "pygments_lexer": "ipython3",
   "version": "3.8.3"
  }
 },
 "nbformat": 4,
 "nbformat_minor": 4
}
